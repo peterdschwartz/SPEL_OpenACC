{
 "cells": [
  {
   "cell_type": "markdown",
   "metadata": {},
   "source": [
    "# Initialization of modules"
   ]
  },
  {
   "cell_type": "code",
   "execution_count": 5,
   "metadata": {},
   "outputs": [],
   "source": [
    "from analyze_subroutines import Subroutine\n",
    "from helper_functions import ReadWrite\n",
    "\n",
    "import analysis.analyze_elm as ae\n",
    "import analysis.analyze_ifs as ai\n",
    "import analysis.analyze_namelist as an\n",
    "\n",
    "import export_objects as eo\n",
    "\n",
    "import importlib\n",
    "import copy\n",
    "import os\n",
    "\n",
    "importlib.reload(eo)\n",
    "importlib.reload(ae) \n",
    "importlib.reload(ai) \n",
    "importlib.reload(an) \n",
    "\n",
    "\n",
    "from mod_config import ELM_SRC\n",
    "mod_dict, sub_dict, type_dict = {}, {}, {}\n",
    "mod_dict, sub_dict, type_dict = eo.unpickle_unit_test(\"-352536b\")\n",
    "file = os.path.join(ELM_SRC, \"biogeochem\", \"AllocationMod.F90\")"
   ]
  },
  {
   "cell_type": "code",
   "execution_count": 6,
   "metadata": {},
   "outputs": [],
   "source": [
    "subroutine_calls = {}\n",
    "for s in sub_dict.keys():\n",
    "    for calls in sub_dict[s].child_Subroutine.keys():\n",
    "        subroutine_calls.setdefault(calls, []).extend(sub_dict[s].child_Subroutine[calls].subroutine_call)\n",
    "\n",
    "# get default value of namelist variables\n",
    "ae.insert_default(mod_dict)\n",
    "\n",
    "namelist_dict = an.find_all_namelist()\n",
    "\n",
    "# find parent if blocks\n",
    "parent_ifs = ai.run(file)\n",
    "\n",
    "\n",
    "# use ai.flatten(parent_ifs) to get all if_blocks\n",
    "flat = ai.flatten(parent_ifs)\n",
    "# Links if_blocks to namelist variables that are present in condition\n",
    "# Links respective Variable object to namelist\n",
    "\n",
    "an.generate_namelist_dict(mod_dict, namelist_dict, flat, subroutine_calls)\n",
    "                                                    # use parent_ifs if only linking parent if_blocks\n",
    "\n",
    "# use an.change_default() to change namelist variable default value\n",
    "# Ex: an.change_default(parent_ifs, namelist_dict, \"nu_com\", \"ECA\")\n",
    "ai.set_default(parent_ifs, namelist_dict)\n",
    "\n"
   ]
  },
  {
   "cell_type": "code",
   "execution_count": 7,
   "metadata": {},
   "outputs": [],
   "source": [
    "\n",
    "example_subroutine = \"allocation2_resolvenplimit\".lower()\n",
    "subroutine = sub_dict[example_subroutine]"
   ]
  },
  {
   "cell_type": "code",
   "execution_count": 8,
   "metadata": {},
   "outputs": [
    {
     "name": "stdout",
     "output_type": "stream",
     "text": [
      "--- Subroutine Calltree with 'nu_com' == 'RD' ---\n",
      "allocation2_resolvenplimit%926\n",
      "|--->calc_nuptake_prof%1108\n",
      "|--->calc_puptake_prof%1109\n",
      "|--->nallocationrd%1308\n",
      "|--->pallocationrd%1432\n",
      "\n",
      "--- Subroutine Calltree with 'nu_com' == 'ECA' ---\n",
      "allocation2_resolvenplimit%926\n",
      "|--->nallocationecamic%1335\n",
      "|--->pallocationecamic%1443\n"
     ]
    }
   ],
   "source": [
    "\n",
    "def clear(node):\n",
    "    for i in sub_dict:\n",
    "        sub_dict[i].calltree=[]\n",
    "    \n",
    "# subroutine calltree \n",
    "\n",
    "clear(subroutine)\n",
    "print(f\"--- Subroutine Calltree with 'nu_com' == 'RD' ---\")\n",
    "subroutine.print_calltree(parent_ifs, namelist_dict)\n",
    "\n",
    "# updates based on namelist variables\n",
    "print()\n",
    "clear(subroutine)\n",
    "print(f\"--- Subroutine Calltree with 'nu_com' == 'ECA' ---\")\n",
    "an.change_default(parent_ifs, namelist_dict, \"nu_com\", \"ECA\")\n",
    "subroutine.print_calltree(parent_ifs, namelist_dict)"
   ]
  },
  {
   "cell_type": "markdown",
   "metadata": {},
   "source": [
    "Validation"
   ]
  },
  {
   "cell_type": "code",
   "execution_count": 181,
   "metadata": {},
   "outputs": [
    {
     "name": "stdout",
     "output_type": "stream",
     "text": [
      "Creating Subroutine test in test L-999--999\n"
     ]
    }
   ],
   "source": [
    "\n",
    "test_parent_ifs = ai.run(\"analysis/unitTest.F90\")\n",
    "\n",
    "test_subroutine = \"test\"\n",
    "\n",
    "test_sub_dict = {\n",
    "    test_subroutine: Subroutine(\n",
    "        name=test_subroutine,\n",
    "        calltree=[],\n",
    "        file=\"test\",\n",
    "        start=-999,\n",
    "        end=-999,\n",
    "        lib_func=True,\n",
    "    )\n",
    "}\n",
    "### REPLACE THIS WITH THE GENERATED CODE ###\n",
    "test_sub_dict[test_subroutine].elmtype_access_by_ln = {\n",
    "    'd' :\n",
    "        [ReadWrite(status='w',ln=5),\n",
    "         ],\n",
    "    't' :\n",
    "        [ReadWrite(status='w',ln=17),\n",
    "         ReadWrite(status='w',ln=17),\n",
    "         ],\n",
    "    'p' :\n",
    "        [ReadWrite(status='w',ln=5),\n",
    "         ],\n",
    "    'e' :\n",
    "        [ReadWrite(status='w',ln=9),\n",
    "         ],\n",
    "    'j' :\n",
    "        [ReadWrite(status='w',ln=9),\n",
    "         ReadWrite(status='w',ln=13),\n",
    "         ],\n",
    "    'w' :\n",
    "        [ReadWrite(status='w',ln=13),\n",
    "         ],\n",
    "    }\n",
    "\n",
    "ai.set_default(test_parent_ifs, namelist_dict)\n",
    "\n",
    "noif = ae.generate_noifs(test_sub_dict, \"test\", test_parent_ifs)\n",
    "\n",
    "test_alive1, test_dead1 = ae.elmtypes(test_sub_dict, test_parent_ifs, \"test\", {}, noif)\n"
   ]
  },
  {
   "cell_type": "code",
   "execution_count": 182,
   "metadata": {},
   "outputs": [
    {
     "name": "stdout",
     "output_type": "stream",
     "text": [
      "Alive                              Dead                \n",
      "==================================================\n",
      "d    [w@L5]                        t    [w@L17, w@L17]\n",
      "p    [w@L5]                        e    [w@L9]\n",
      "t    [w@L17, w@L17]                j    [w@L9, w@L13]\n",
      "                                   w    [w@L13]\n"
     ]
    }
   ],
   "source": [
    "from itertools import zip_longest\n",
    "\n",
    "print(f\"{'Alive':<10}{' ':<25}{'Dead':<20}\")\n",
    "print(\"=\" * 50)\n",
    "\n",
    "\n",
    "for alive_item, dead_item in zip_longest(\n",
    "    test_alive1.items(), test_dead1.items(), fillvalue=(\"\", \"\")\n",
    "):\n",
    "    alive_var, alive_info = alive_item\n",
    "    dead_var, dead_info = dead_item\n",
    "    print(f\"{alive_var:<5}{str(alive_info):<30}{dead_var:<5}{str(dead_info)}\")"
   ]
  },
  {
   "cell_type": "code",
   "execution_count": 183,
   "metadata": {},
   "outputs": [
    {
     "name": "stdout",
     "output_type": "stream",
     "text": [
      "start: 1104, end: 1131, depth: 1, relative: 1111, type: 1\n",
      "condition: nu_com .eq. 'RD'\n",
      "default: True\n",
      "calls: [('calc_nuptake_prof', SubroutineCall(subname='allocation2_resolvenplimit', args=[bounds => bounds, num_soilc => num_soilc, filter_soilc => filter_soilc, cnstate_vars => cnstate_vars, nuptake_prof => nuptake_prof], ln=1108)), ('calc_puptake_prof', SubroutineCall(subname='allocation2_resolvenplimit', args=[bounds => bounds, num_soilc => num_soilc, filter_soilc => filter_soilc, cnstate_vars => cnstate_vars, puptake_prof => puptake_prof], ln=1109))]\n",
      "else if:\n",
      "->|start: 1111, end: 1131, depth: 1, relative: 1131, type: 2\n",
      "->|condition: nu_com .eq. 'ECA' .or. nu_com .eq. 'MIC'\n",
      "->|default: False\n",
      "->|parent: 1104\n",
      "->|children: \n",
      "->|->|->|start: 1113, end: 1129, depth: 2, relative: 1119, type: 1\n",
      "->|->|->|condition: use_fates\n",
      "->|->|->|default: False\n",
      "->|->|->|else:\n",
      "->|->|->|->|start: 1119, end: 1129, depth: 2, relative: 1129, type: 3\n",
      "->|->|->|->|default: False\n",
      "->|->|->|->|parent: 1113\n",
      "->|->|->|parent: 1111\n",
      "-----\n",
      "start: 1104, end: 1131, depth: 1, relative: 1111, type: 1\n",
      "condition: nu_com .eq. 'RD'\n",
      "default: False\n",
      "calls: [('calc_nuptake_prof', SubroutineCall(subname='allocation2_resolvenplimit', args=[bounds => bounds, num_soilc => num_soilc, filter_soilc => filter_soilc, cnstate_vars => cnstate_vars, nuptake_prof => nuptake_prof], ln=1108)), ('calc_puptake_prof', SubroutineCall(subname='allocation2_resolvenplimit', args=[bounds => bounds, num_soilc => num_soilc, filter_soilc => filter_soilc, cnstate_vars => cnstate_vars, puptake_prof => puptake_prof], ln=1109))]\n",
      "else if:\n",
      "->|start: 1111, end: 1131, depth: 1, relative: 1131, type: 2\n",
      "->|condition: nu_com .eq. 'ECA' .or. nu_com .eq. 'MIC'\n",
      "->|default: True\n",
      "->|parent: 1104\n",
      "->|children: \n",
      "->|->|->|start: 1113, end: 1129, depth: 2, relative: 1119, type: 1\n",
      "->|->|->|condition: use_fates\n",
      "->|->|->|default: False\n",
      "->|->|->|else:\n",
      "->|->|->|->|start: 1119, end: 1129, depth: 2, relative: 1129, type: 3\n",
      "->|->|->|->|default: True\n",
      "->|->|->|->|parent: 1113\n",
      "->|->|->|parent: 1111\n"
     ]
    }
   ],
   "source": [
    "# View if blocks\n",
    "an.change_default(parent_ifs, namelist_dict, \"nu_com\", \"RD\")\n",
    "for i in parent_ifs:\n",
    "    if i.start == 1104:\n",
    "        i.print_if_structure()\n",
    "        \n",
    "print(\"-----\")\n",
    "\n",
    "an.change_default(parent_ifs, namelist_dict, \"nu_com\", \"ECA\")\n",
    "for i in parent_ifs:\n",
    "    if i.start == 1104:\n",
    "        i.print_if_structure()"
   ]
  },
  {
   "cell_type": "code",
   "execution_count": 184,
   "metadata": {},
   "outputs": [
    {
     "name": "stdout",
     "output_type": "stream",
     "text": [
      "nallocationecamic [SubroutineCall(subname='allocation2_resolvenplimit', args=[pci => pci, dt => dt, bd => bd, h2osoi_vol => h2osoi_vol, t_scalar => t_scalar, n_pcomp => n_pcomp, filter_pcomp => filter_pcomp, veg_rootc => veg_rootc_ptr, ft_index => ft_index_ptr, cn_scalar_runmean => cn_scalar_runmean_ptr, decompmicc => decompmicc, smin_nh4_vr => smin_nh4_vr, nu_com => nu_com, km_nh4_plant => km_nh4_ptr, vmax_nh4_plant => vmax_nh4_ptr, km_decomp_nh4 => km_decomp_nh4, potential_immob_vr => potential_immob_vr, plant_nh4demand_vr => plant_nh4demand_vr_ptr, col_plant_nh4demand_vr => col_plant_nh4demand_vr, fpi_nh4_vr => fpi_nh4_vr, actual_immob_nh4_vr => actual_immob_nh4_vr, smin_nh4_to_plant_vr => smin_nh4_to_plant_vr, smin_no3_vr => smin_no3_vr, km_no3_plant => km_no3_ptr, vmax_no3_plant => vmax_no3_ptr, km_decomp_no3 => km_decomp_no3, km_nit => km_nit, km_den => km_den, pot_f_nit_vr => pot_f_nit_vr, pot_f_denit_vr => pot_f_denit_vr, plant_no3demand_vr => plant_no3demand_vr_ptr, col_plant_no3demand_vr => col_plant_no3demand_vr, fpi_no3_vr => fpi_no3_vr, actual_immob_no3_vr => actual_immob_no3_vr, smin_no3_to_plant_vr => smin_no3_to_plant_vr, f_nit_vr => f_nit_vr, f_denit_vr => f_denit_vr], ln=1335)]\n",
      "pallocationecamic [SubroutineCall(subname='allocation2_resolvenplimit', args=[pci => pci, dt => dt, h2osoi_vol => h2osoi_vol, t_scalar => t_scalar, gross_pmin_vr => gross_pmin_vr, potential_immob_p_vr => potential_immob_p_vr, biochem_pmin_vr_col => biochem_pmin_vr_col, primp_to_labilep_vr_col => primp_to_labilep_vr_col, pdep_to_sminp => pdep_to_sminp, pdep_prof => pdep_prof, vmax_minsurf_p_vr => vmax_minsurf_p_vr, km_minsurf_p_vr => km_minsurf_p_vr, solutionp_vr => solutionp_vr, nu_com => nu_com, n_pcomp => n_pcomp, filter_pcomp => filter_pcomp, veg_rootc => veg_rootc_ptr, ft_index => ft_index_ptr, decompmicc => decompmicc, cp_scalar_runmean => cp_scalar_runmean_ptr, km_plant_p => km_p_ptr, vmax_plant_p => vmax_p_ptr, km_decomp_p => km_decomp_p, labilep_vr => labilep_vr, plant_pdemand_vr_patch => plant_pdemand_vr_ptr, col_plant_pdemand_vr => col_plant_pdemand_vr, adsorb_to_labilep_vr => adsorb_to_labilep_vr, fpi_p_vr => fpi_p_vr, actual_immob_p_vr => actual_immob_p_vr, sminp_to_plant_vr => sminp_to_plant_vr, desorb_to_solutionp_vr => desorb_to_solutionp_vr, supplement_to_sminp_vr => supplement_to_sminp_vr], ln=1443)]\n"
     ]
    }
   ],
   "source": [
    "\n",
    "an.change_default(parent_ifs, namelist_dict, \"nu_com\", \"ECA\")\n",
    "calls = ae.subroutineCalls(sub_dict, parent_ifs, example_subroutine)\n",
    "for i in calls:\n",
    "    print(i, calls[i])"
   ]
  },
  {
   "cell_type": "code",
   "execution_count": 186,
   "metadata": {},
   "outputs": [],
   "source": [
    "# some variables are hard coded\n",
    "def compare(ifs, subroutine, namelist_variable, value1, value2):\n",
    "    noif = ae.generate_noifs(sub_dict, subroutine, ifs)\n",
    "                \n",
    "    an.change_default(ifs, namelist_dict, namelist_variable, value1)\n",
    "    alive1, dead_first_file = ae.elmtypes(sub_dict, ifs, subroutine,namelist_dict, noif)\n",
    "    \n",
    "    an.change_default(ifs, namelist_dict, namelist_variable, value2)\n",
    "    alive2, dead_second_file = ae.elmtypes(sub_dict, ifs, subroutine,namelist_dict, noif)\n",
    "    \n",
    "    \n",
    "    from helper_functions import summarize_read_write_status\n",
    "\n",
    "\n",
    "\n",
    "    alive_first_file = summarize_read_write_status(alive1)\n",
    "    alive_second_file = summarize_read_write_status(alive2)\n",
    "    value1Alive, value2Alive = [], []\n",
    "    \n",
    "    for var in alive1: \n",
    "        for val in alive1[var]:\n",
    "            string = f\"{val.ln} {val.status} {var}\"\n",
    "            value1Alive.append(string)\n",
    "            \n",
    "    for var in alive2: \n",
    "        for val in alive2[var]:\n",
    "            string = f\"{val.ln} {val.status} {var}\"\n",
    "\n",
    "            value2Alive.append(string)\n",
    "            \n",
    "   \n",
    "    value1Alive.sort()\n",
    "    value2Alive.sort()\n",
    "  \n",
    "    alive1_m, alive2_m = ae.stagger_diff(value1Alive, value2Alive)\n",
    "    ae.generate_html_comparison(alive1_m, alive2_m)\n",
    "    \n",
    "    return alive_first_file, alive_second_file, dead_first_file, dead_second_file, alive1, alive2, dead_first_file, dead_second_file"
   ]
  },
  {
   "cell_type": "code",
   "execution_count": 187,
   "metadata": {},
   "outputs": [
    {
     "name": "stdout",
     "output_type": "stream",
     "text": [
      "HTML comparison saved to comparison.html\n"
     ]
    }
   ],
   "source": [
    "alive_first_file, alive_second_file, dead_first_file, dead_second_file, alive1, alive2, dead_first_file, dead_second_file  = compare(parent_ifs, example_subroutine, 'nu_com', \"RD\", \"ECA\")"
   ]
  },
  {
   "cell_type": "code",
   "execution_count": 188,
   "metadata": {},
   "outputs": [
    {
     "name": "stdout",
     "output_type": "stream",
     "text": [
      "Alive                                                                                          Dead                \n",
      "========================================================================================================================================================================================================\n",
      "col_nf%plant_ndemand               [r@L1222, r@L1695, r@L1696]                                 bounds%begp                        [r@L1120]                                                                                 \n",
      "col_pf%plant_pdemand               [r@L1223, r@L1713, r@L1714]                                 bounds%endp                        [r@L1120]                                                                                 \n",
      "col_nf%col_plant_ndemand_vr        [w@L1222, r@L1328]                                          veg_nf%smin_nh4_to_plant           [w@L1124, rw@L1642, r@L1663]                                                              \n",
      "col_pf%col_plant_pdemand_vr        [w@L1223, r@L1439, r@L1578]                                 veg_nf%smin_no3_to_plant           [w@L1125, rw@L1644, r@L1663]                                                              \n",
      "col_pp%pfti                        [r@L1216, r@L1274, r@L1275]                                 veg_nf%sminn_to_plant              [w@L1126, w@L1663]                                                                        \n",
      "col_pp%pftf                        [r@L1217, r@L1274, r@L1275]                                 veg_pf%sminp_to_plant              [w@L1127, rw@L1646]                                                                       \n",
      "allocparamsinst%compet_plant_nh4   [r@L1328]                                                   col_pp%landunit                    [r@L1138]                                                                                 \n",
      "allocparamsinst%compet_decomp_nh4  [r@L1328]                                                   bounds%clump_index                 [r@L1149]                                                                                 \n",
      "allocparamsinst%compet_plant_no3   [r@L1328]                                                   col_nf%plant_ndemand               [w@L1160, rw@L1184, w@L1608, rw@L1611, r@L1761]                                           \n",
      "allocparamsinst%compet_decomp_no3  [r@L1328]                                                   col_pf%plant_pdemand               [w@L1161, rw@L1185, w@L1609, rw@L1612, r@L1790]                                           \n",
      "allocparamsinst%compet_nit         [r@L1328]                                                   col_nf%col_plant_ndemand_vr        [w@L1166, r@L1184, w@L1372, r@L1401, r@L1403, r@L1405, r@L1408, r@L1409, r@L1611]         \n",
      "allocparamsinst%compet_denit       [r@L1328]                                                   col_pf%col_plant_pdemand_vr        [w@L1167, r@L1185, rw@L1473, r@L1480, r@L1481, r@L1578, r@L1612, r@L1627, r@L1628]        \n",
      "col_nf%potential_immob_vr          [r@L1328, r@L1592, r@L1682]                                 col_pp%pfti                        [r@L1230, r@L1252, r@L1253, r@L1254, r@L1274, r@L1275, r@L1633, r@L1731]                  \n",
      "col_ns%smin_nh4_vr                 [r@L1328]                                                   col_pp%pftf                        [r@L1230, r@L1252, r@L1253, r@L1254, r@L1274, r@L1275, r@L1633, r@L1731]                  \n",
      "col_nf%actual_immob_nh4_vr         [rw@L1328, r@L1421, r@L1523, r@L1568, r@L1684]              veg_pp%itype                       [r@L1231, r@L1634, r@L1733, r@L1234, r@L1238, r@L1262, r@L1283]                           \n",
      "col_nf%smin_nh4_to_plant_vr        [rw@L1328, r@L1420, rw@L1575]                               veg_pp%active                      [r@L1231, r@L1634, r@L1733]                                                               \n",
      "col_ns%smin_no3_vr                 [r@L1328]                                                   veg_pp%wtcol                       [r@L1238, r@L1242, r@L1637, r@L1638, r@L1639]                                             \n",
      "col_nf%pot_f_nit_vr                [r@L1328]                                                   veg_vp%decompmicc_patch_vr         [r@L1238]                                                                                 \n",
      "col_nf%pot_f_denit_vr              [r@L1328]                                                   veg_cs%frootc                      [r@L1242, r@L1738, r@L1742]                                                               \n",
      "col_nf%actual_immob_no3_vr         [rw@L1328, r@L1421, r@L1523, r@L1568, r@L1683]              cnstate_vars%froot_prof_patch      [r@L1242, r@L1738, r@L1742]                                                               \n",
      "col_nf%smin_no3_to_plant_vr        [w@L1328, r@L1420, rw@L1577]                                cnstate_vars%cn_scalar             [w@L1252, w@L1262, r@L1370]                                                               \n",
      "col_nf%f_nit_vr                    [w@L1328, r@L1380]                                          veg_nf%plant_no3demand_vr          [w@L1253, rw@L1638, r@L1644, r@L1742, rw@L1370]                                           \n",
      "col_nf%f_denit_vr                  [w@L1328, r@L1381]                                          veg_nf%plant_nh4demand_vr          [w@L1254, rw@L1637, r@L1642, r@L1738, rw@L1370]                                           \n",
      "cnstate_vars%fpi_vr_col            [r@L1586, w@L1417]                                          veg_cs%leafc                       [r@L1262, r@L1283]                                                                        \n",
      "col_nf%actual_immob_vr             [w@L1592, w@L1421, w@L1523, w@L1568, r@L1681]               veg_cs%leafc_storage               [r@L1262, r@L1283]                                                                        \n",
      "col_pf%potential_immob_p_vr        [r@L1439, r@L1586, r@L1686]                                 veg_cs%leafc_xfer                  [r@L1262, r@L1283]                                                                        \n",
      "col_ps%solutionp_vr                [r@L1439]                                                   veg_ns%leafn                       [r@L1262]                                                                                 \n",
      "cnstate_vars%fpi_p_vr_col          [w@L1439, r@L1592]                                          veg_ns%leafn_storage               [r@L1262]                                                                                 \n",
      "col_pf%actual_immob_p_vr           [rw@L1439, w@L1586, r@L1685]                                veg_ns%leafn_xfer                  [r@L1262]                                                                                 \n",
      "col_pf%sminp_to_plant_vr           [w@L1439, rw@L1578, r@L1602]                                veg_vp%leafcn                      [r@L1262]                                                                                 \n",
      "col_pf%supplement_to_sminp_vr      [w@L1439]                                                   cnstate_vars%cp_scalar             [w@L1274, w@L1283, r@L1473]                                                               \n",
      "col_nf%sminn_to_plant              [r@L1696, w@L1598, rw@L1601]                                veg_pf%plant_pdemand_vr            [w@L1275, rw@L1639, r@L1646, rw@L1473]                                                    \n",
      "col_pf%sminp_to_plant              [r@L1714, w@L1599, rw@L1602]                                veg_ps%leafp                       [r@L1283]                                                                                 \n",
      "col_nf%actual_immob                [r@L1703, w@L1671, rw@L1681]                                veg_ps%leafp_storage               [r@L1283]                                                                                 \n",
      "col_nf%potential_immob             [r@L1702, r@L1703, w@L1672, rw@L1682]                       veg_ps%leafp_xfer                  [r@L1283]                                                                                 \n",
      "col_pf%actual_immob_p              [r@L1721, w@L1675, rw@L1685]                                veg_vp%leafcp                      [r@L1283]                                                                                 \n",
      "col_pf%potential_immob_p           [r@L1720, r@L1721, w@L1676, rw@L1686]                       col_nf%potential_immob_vr          [r@L1370, r@L1395, r@L1397, r@L1682]                                                      \n",
      "cnstate_vars%fpg_col               [w@L1696]                                                   col_ns%smin_nh4_vr                 [r@L1370]                                                                                 \n",
      "cnstate_vars%fpi_col               [w@L1703]                                                   col_nf%actual_immob_nh4_vr         [rw@L1370, r@L1395, w@L1397, r@L1421, rw@L1509, r@L1523, rw@L1552, r@L1568, r@L1684]      \n",
      "cnstate_vars%fpg_p_col             [w@L1714]                                                   col_nf%smin_nh4_to_plant_vr        [rw@L1370, r@L1401, r@L1403, w@L1405, w@L1409, r@L1420, rw@L1575, r@L1618]                \n",
      "cnstate_vars%fpi_p_col             [w@L1721]                                                   col_ns%smin_no3_vr                 [r@L1370]                                                                                 \n",
      "col_pp%landunit                    [r@L1138]                                                   col_nf%pot_f_nit_vr                [r@L1370]                                                                                 \n",
      "cnstate_vars%cp_scalar             [w@L1274]                                                   col_nf%pot_f_denit_vr              [r@L1370]                                                                                 \n",
      "veg_pf%plant_pdemand_vr            [w@L1275]                                                   col_nf%actual_immob_no3_vr         [rw@L1370, r@L1395, r@L1397, r@L1421, rw@L1510, rw@L1517, r@L1523, rw@L1553, rw@L1562, r@L1568, r@L1683]\n",
      "col_nf%col_plant_nh4demand_vr      [r@L1575]                                                   col_nf%smin_no3_to_plant_vr        [rw@L1370, r@L1401, r@L1403, r@L1405, r@L1409, r@L1420, rw@L1577, r@L1623]                \n",
      "col_nf%col_plant_no3demand_vr      [r@L1577]                                                   col_nf%f_nit_vr                    [rw@L1370, r@L1380]                                                                       \n",
      "col_nf%f_n2o_nit_vr                [w@L1380]                                                   col_nf%f_denit_vr                  [rw@L1370, r@L1381]                                                                       \n",
      "col_nf%f_n2o_denit_vr              [w@L1381]                                                   soilstate_vars%bd_col              [r@L1370]                                                                                 \n",
      "col_nf%n2_n2o_ratio_denit_vr       [r@L1381]                                                   col_ws%h2osoi_vol                  [r@L1370, r@L1473]                                                                        \n",
      "col_nf%supplement_to_sminn_vr      [w@L1389]                                                   col_cf%t_scalar                    [r@L1370, r@L1473, r@L1738, r@L1742]                                                      \n",
      "col_nf%sminn_to_plant_vr           [w@L1420, r@L1601]                                          veg_vp%km_plant_nh4                [r@L1370]                                                                                 \n",
      "col_nf%actual_immob_no3            [w@L1673, rw@L1683]                                         veg_vp%vmax_plant_nh4              [r@L1370]                                                                                 \n",
      "col_nf%actual_immob_nh4            [w@L1674, rw@L1684]                                         veg_vp%km_decomp_nh4               [r@L1370]                                                                                 \n",
      "veg_ns%pnup_pfrootc                [rw@L1745]                                                  col_nf%col_plant_nh4demand_vr      [rw@L1370, r@L1372, r@L1575, r@L1617, r@L1618]                                            \n",
      "                                                                                               veg_vp%km_plant_no3                [r@L1370]                                                                                 \n",
      "                                                                                               veg_vp%vmax_plant_no3              [r@L1370]                                                                                 \n",
      "                                                                                               veg_vp%km_decomp_no3               [r@L1370]                                                                                 \n",
      "                                                                                               veg_vp%km_nit                      [r@L1370]                                                                                 \n",
      "                                                                                               veg_vp%km_den                      [r@L1370]                                                                                 \n",
      "                                                                                               col_nf%col_plant_no3demand_vr      [rw@L1370, r@L1372, r@L1577, r@L1622, r@L1623]                                            \n",
      "                                                                                               col_nf%f_n2o_nit_vr                [w@L1380]                                                                                 \n",
      "                                                                                               col_nf%f_n2o_denit_vr              [w@L1381]                                                                                 \n",
      "                                                                                               col_nf%n2_n2o_ratio_denit_vr       [r@L1381]                                                                                 \n",
      "                                                                                               col_nf%supplement_to_sminn_vr      [w@L1389, w@L1395, rw@L1403, rw@L1408]                                                    \n",
      "                                                                                               cnstate_vars%fpi_vr_col            [w@L1393, w@L1417, r@L1497, r@L1501, r@L1535, r@L1539, r@L1541]                           \n",
      "                                                                                               col_nf%sminn_to_plant_vr           [w@L1420, r@L1601]                                                                        \n",
      "                                                                                               col_nf%actual_immob_vr             [w@L1421, w@L1523, w@L1568, r@L1681]                                                      \n",
      "                                                                                               col_pf%potential_immob_p_vr        [r@L1473, r@L1686]                                                                        \n",
      "                                                                                               col_ps%solutionp_vr                [r@L1473]                                                                                 \n",
      "                                                                                               cnstate_vars%fpi_p_vr_col          [w@L1473, r@L1497, r@L1501, r@L1505, r@L1509, r@L1517, r@L1535, r@L1539, r@L1541, r@L1545, r@L1549, r@L1552, r@L1560, r@L1562]\n",
      "                                                                                               col_pf%actual_immob_p_vr           [rw@L1473, rw@L1501, rw@L1541, r@L1685]                                                   \n",
      "                                                                                               col_pf%sminp_to_plant_vr           [rw@L1473, w@L1480, rw@L1578, r@L1602, r@L1628]                                           \n",
      "                                                                                               col_pf%supplement_to_sminp_vr      [w@L1473, w@L1481]                                                                        \n",
      "                                                                                               col_pf%gross_pmin_vr               [r@L1473]                                                                                 \n",
      "                                                                                               col_pf%biochem_pmin_vr             [r@L1473]                                                                                 \n",
      "                                                                                               col_pf%primp_to_labilep_vr         [r@L1473]                                                                                 \n",
      "                                                                                               col_pf%pdep_to_sminp               [r@L1473]                                                                                 \n",
      "                                                                                               cnstate_vars%pdep_prof_col         [r@L1473]                                                                                 \n",
      "                                                                                               veg_vp%vmax_minsurf_p_vr           [r@L1473]                                                                                 \n",
      "                                                                                               veg_vp%km_minsurf_p_vr             [r@L1473]                                                                                 \n",
      "                                                                                               veg_vp%km_plant_p                  [r@L1473]                                                                                 \n",
      "                                                                                               veg_vp%vmax_plant_p                [r@L1473]                                                                                 \n",
      "                                                                                               veg_vp%km_decomp_p                 [r@L1473]                                                                                 \n",
      "                                                                                               col_ps%labilep_vr                  [r@L1473]                                                                                 \n",
      "                                                                                               col_pf%adsorb_to_labilep_vr        [rw@L1473]                                                                                \n",
      "                                                                                               col_pf%desorb_to_solutionp_vr      [w@L1473]                                                                                 \n",
      "                                                                                               col_nf%pmnf_decomp_cascade         [r@L1499, r@L1507, r@L1509, r@L1510, r@L1515, r@L1517, r@L1537, r@L1547, r@L1549, r@L1550, r@L1552, r@L1553, r@L1558, r@L1560, r@L1562]\n",
      "                                                                                               col_pf%pmpf_decomp_cascade         [r@L1499, r@L1501, r@L1507, r@L1515, r@L1537, r@L1539, r@L1541, r@L1547, r@L1558]         \n",
      "                                                                                               col_nf%sminn_to_plant              [w@L1598, rw@L1601]                                                                       \n",
      "                                                                                               col_pf%sminp_to_plant              [w@L1599, rw@L1602]                                                                       \n",
      "                                                                                               cnstate_vars%fpg_nh4_vr_col        [w@L1618, w@L1620, r@L1642, r@L1738]                                                      \n",
      "                                                                                               cnstate_vars%fpg_no3_vr_col        [w@L1623, w@L1625, r@L1644, r@L1742]                                                      \n",
      "                                                                                               cnstate_vars%fpg_p_vr_col          [w@L1628, w@L1630, r@L1646]                                                               \n",
      "                                                                                               col_nf%actual_immob                [w@L1671, rw@L1681]                                                                       \n",
      "                                                                                               col_nf%potential_immob             [w@L1672, rw@L1682]                                                                       \n",
      "                                                                                               col_nf%actual_immob_no3            [w@L1673, rw@L1683]                                                                       \n",
      "                                                                                               col_nf%actual_immob_nh4            [w@L1674, rw@L1684]                                                                       \n",
      "                                                                                               col_pf%actual_immob_p              [w@L1675, rw@L1685]                                                                       \n",
      "                                                                                               col_pf%potential_immob_p           [w@L1676, rw@L1686]                                                                       \n",
      "                                                                                               cnstate_vars%fpg_col               [w@L1698]                                                                                 \n",
      "                                                                                               cnstate_vars%fpi_col               [w@L1705]                                                                                 \n",
      "                                                                                               cnstate_vars%fpg_p_col             [w@L1716]                                                                                 \n",
      "                                                                                               cnstate_vars%fpi_p_col             [w@L1723]                                                                                 \n",
      "                                                                                               veg_ns%pnup_pfrootc                [w@L1732, rw@L1738, rw@L1742, rw@L1745]                                                   \n",
      "                                                                                               cnstate_vars%cn_scalar_runmean     [r@L1738, r@L1742]                                                                        \n"
     ]
    }
   ],
   "source": [
    "from itertools import zip_longest\n",
    "\n",
    "print(f\"{'Alive':<10}{' ':<85}{'Dead':<20}\")\n",
    "print(\"=\" * 200)\n",
    "\n",
    "# Use zip_longest to handle lists of different lengths\n",
    "for alive_item, dead_item in zip_longest(\n",
    "    alive1.items(), dead_first_file.items(), fillvalue=(\"\", \"\")\n",
    "):\n",
    "    alive_var, alive_info = alive_item\n",
    "    dead_var, dead_info = dead_item\n",
    "    print(f\"{alive_var:<35}{str(alive_info):<60}{dead_var:<35}{str(dead_info):<90}\")"
   ]
  },
  {
   "cell_type": "code",
   "execution_count": null,
   "metadata": {},
   "outputs": [],
   "source": [
    "# insert stops into code\n",
    "ae.insert(file, parent_ifs)"
   ]
  }
 ],
 "metadata": {
  "kernelspec": {
   "display_name": "Python 3",
   "language": "python",
   "name": "python3"
  },
  "language_info": {
   "codemirror_mode": {
    "name": "ipython",
    "version": 3
   },
   "file_extension": ".py",
   "mimetype": "text/x-python",
   "name": "python",
   "nbconvert_exporter": "python",
   "pygments_lexer": "ipython3",
   "version": "3.10.12"
  }
 },
 "nbformat": 4,
 "nbformat_minor": 2
}
